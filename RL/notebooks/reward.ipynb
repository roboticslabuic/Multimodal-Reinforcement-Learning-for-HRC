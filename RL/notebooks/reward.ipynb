{
 "cells": [
  {
   "cell_type": "code",
   "execution_count": null,
   "metadata": {},
   "outputs": [],
   "source": [
    "class Reward():\n",
    "  #def __init__(self):\n",
    "\n",
    "  def Reward(self, state, next_state, success, done, forbidden, num_round):\n",
    "        elder_state = next_state[0]\n",
    "        helper_state = next_state[1]\n",
    "        helper_prev_state = state[1]\n",
    "        \n",
    "        #print(num_verify)\n",
    "        \n",
    "        #helper_action = helper_state[0]['action_out'].item()\n",
    "        helper_action = helper_state[0]\n",
    "        helper_prev_action = helper_prev_state[0]\n",
    "        #print(helper_action)\n",
    "\n",
    "        #check if ot,l,o is filled out\n",
    "        ot = helper_state[1][0][1]\n",
    "        l = helper_state[1][1][1]\n",
    "        o = helper_state[1][2][1]\n",
    "        #print(ot,l,o)\n",
    "\n",
    "        reward = -1 #-1,-10\n",
    "        \n",
    "        if done and (not success):\n",
    "            reward = -2\n",
    "        if done and success:\n",
    "            reward = 2\n",
    "\n",
    "        if forbidden:\n",
    "            reward = -50 #-20\n",
    "            \n",
    "        #if ot == 2:\n",
    "        #    if helper_action['action_out'] == 3:\n",
    "        #        reward = 2\n",
    "        #    else:\n",
    "        #        reward = -2\n",
    "        #if l == 2:\n",
    "        #    if helper_action['action_out'] == 4:\n",
    "        #        reward = 2\n",
    "        #    else:\n",
    "        #        reward = -2\n",
    "                \n",
    "        #if ot and helper_action['action_out']==1:\n",
    "        #    #print(helper_action)\n",
    "        #    reward = -100\n",
    "        #if l and helper_action['action_out']==2:\n",
    "        #    reward = -100\n",
    "\n",
    "        \n",
    "            \n",
    "        #if not done:    \n",
    "        #    if helper_action == helper_prev_action:\n",
    "        #        #print('action', helper_action, 'prev_action', helper_prev_action)\n",
    "                #reward = -50 #-10\n",
    "\n",
    "\n",
    "\n",
    "        return reward"
   ]
  }
 ],
 "metadata": {
  "colab": {
   "collapsed_sections": [],
   "name": "WorldNB.ipynb",
   "provenance": []
  },
  "kernelspec": {
   "display_name": "Python 3",
   "language": "python",
   "name": "python3"
  },
  "language_info": {
   "codemirror_mode": {
    "name": "ipython",
    "version": 3
   },
   "file_extension": ".py",
   "mimetype": "text/x-python",
   "name": "python",
   "nbconvert_exporter": "python",
   "pygments_lexer": "ipython3",
   "version": "3.8.8"
  }
 },
 "nbformat": 4,
 "nbformat_minor": 1
}
